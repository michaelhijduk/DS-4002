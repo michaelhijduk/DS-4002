{
 "cells": [
  {
   "cell_type": "markdown",
   "id": "94b80192-8648-46a7-befe-13b936a5a057",
   "metadata": {},
   "source": [
    "# Project 1: Classifying Music Genre by Lyrics"
   ]
  },
  {
   "cell_type": "markdown",
   "id": "7121d1cc-7250-4b7d-8fc0-61aa91d05bfa",
   "metadata": {},
   "source": [
    "# Anthony is here"
   ]
  },
  {
   "cell_type": "markdown",
   "id": "b103ba33",
   "metadata": {},
   "source": [
    "# Laura is here"
   ]
  }
 ],
 "metadata": {
  "kernelspec": {
   "display_name": "Python 3 (ipykernel)",
   "language": "python",
   "name": "python3"
  },
  "language_info": {
   "codemirror_mode": {
    "name": "ipython",
    "version": 3
   },
   "file_extension": ".py",
   "mimetype": "text/x-python",
   "name": "python",
   "nbconvert_exporter": "python",
   "pygments_lexer": "ipython3",
   "version": "3.11.1"
  }
 },
 "nbformat": 4,
 "nbformat_minor": 5
}
