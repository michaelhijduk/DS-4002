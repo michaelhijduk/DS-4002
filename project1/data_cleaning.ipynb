{
 "cells": [
  {
   "cell_type": "markdown",
   "id": "94b80192-8648-46a7-befe-13b936a5a057",
   "metadata": {},
   "source": [
    "# Project 1: Classifying Music Genre by Lyrics"
   ]
  },
  {
   "cell_type": "markdown",
   "id": "7121d1cc-7250-4b7d-8fc0-61aa91d05bfa",
   "metadata": {},
   "source": [
    "# Anthony is here"
   ]
  },
  {
   "cell_type": "markdown",
   "id": "b103ba33",
   "metadata": {},
   "source": [
    "# Laura is here"
   ]
  },
  {
   "cell_type": "code",
   "execution_count": 1,
   "id": "ad47ebbc-4de8-4765-b556-4ce3b889f3ab",
   "metadata": {},
   "outputs": [],
   "source": [
    "from lyricsgenius import Genius\n",
    "import os"
   ]
  },
  {
   "cell_type": "code",
   "execution_count": 12,
   "id": "bf4a4895-238a-4c6a-ad85-c8418aa2cbe7",
   "metadata": {},
   "outputs": [
    {
     "name": "stdout",
     "output_type": "stream",
     "text": [
      "Q3htyQyBeU-FLCXyHLEU1C5vExQxM6n-Lcmyy0JQDuKbt8FCwGjA9A4goTak-ZTp\n",
      "Searching for songs by Andy Shauf...\n",
      "\n",
      "Song 1: \"Alexander All Alone\"\n",
      "Song 2: \"All Of My Love\"\n",
      "Song 3: \"All the Same\"\n",
      "\n",
      "Reached user-specified song limit (3).\n",
      "Done. Found 3 songs.\n",
      "Song title: Alexander All Alone\n",
      "[Verse 1]\n",
      "Alexander all alone\n",
      "Smoking a cigarette\n",
      "The last pack he'd ever buy\n",
      "At least that's what he said\n",
      "He stood up to stretch his back\n",
      "And fell down to the ground\n",
      "\n",
      "[Verse 2]\n",
      "Alexander all alone\n",
      "Till the neighbor caught a glimpse\n",
      "Cried out for his wife\n",
      "To call the ambulance\n",
      "Alexander all alone\n",
      "Felt them check his pulse\n",
      "He heard them pronounce him dead\n",
      "\n",
      "[Chorus]\n",
      "Hell is found inside of me\n",
      "And nothing else will set me free\n",
      "If hell is found inside of me\n",
      "Then open me up and spill me out\n",
      "\n",
      "[Verse 3]\n",
      "Alexander wondered why\n",
      "No life flashed before his eyes\n",
      "Why his soul did not depart\n",
      "Why he found no peace of mind\n",
      "Would it take a little while?\n",
      "Was it the same for everyone?\n",
      "Alexander realized\n",
      "\n",
      "[Chorus]\n",
      "That hell is found inside of me\n",
      "And nothing else will set me free\n",
      "If hell is found inside of me\n",
      "Then open me up and spill me out\n",
      "____________\n",
      "Song title: All Of My Love\n",
      "[Chorus]\n",
      "Was all of my love wasted on you?\n",
      "Was all of my love wasted on you?\n",
      "Was all of my love wasted on you?\n",
      "Was all of my love wasted on you?\n",
      "____________\n",
      "Song title: All the Same\n",
      "The greenest grass you'll ever see\n",
      "Lies silent on the earth\n",
      "Where I could never be\n",
      "And the brightest sun that's ever shined\n",
      "As you walk away\n",
      "It dances there behind, or so I find\n",
      "But it's all the same anyway\n",
      "\n",
      "I'll hold you in the setting sun\n",
      "Would that be boring\n",
      "Would it be any fun for you\n",
      "Maybe I could fix your pain\n",
      "But what is life if it's always sunny\n",
      "If there's never any rain\n",
      "If it's all the same anyway, then it's all the same anyway\n",
      "\n",
      "You are the mittens to my coldest hands\n",
      "The purest rain to the driest lands\n",
      "A brand new friend on a lonely day\n",
      "Most beautiful girl I'd have to say\n",
      "Please be mine on this very night\n",
      "Hands are shaking, knees not quite\n",
      "It's all the same anyway, well maybe it was but not today\n",
      "\n",
      "Stay with me this little while because all I know is you make me smile\n",
      "____________\n"
     ]
    }
   ],
   "source": [
    "GENIUS_API_TOKEN = os.getenv(\"GENIUS_API_TOKEN\")\n",
    "if GENIUS_API_TOKEN:\n",
    "    print(GENIUS_API_TOKEN)\n",
    "else:\n",
    "    raise ValueError(\"GENIUS_API_TOKEN CANNOT BE FOUND\")\n",
    "genius = Genius(GENIUS_API_TOKEN)\n",
    "artist = genius.search_artist(\"Andy Shauf\", max_songs=3, sort=\"title\")\n",
    "Andy_Shauf_songs = artist.songs\n",
    "for each in Andy_Shauf_songs:\n",
    "    print(f\"Song title: {each.title}\")\n",
    "    print(each.lyrics)\n",
    "    print(\"____________\")"
   ]
  },
  {
   "cell_type": "code",
   "execution_count": null,
   "id": "f9a6fa65-9165-4955-9d8a-a06a12fde695",
   "metadata": {},
   "outputs": [],
   "source": [
    "# Setting up API\n",
    "GENIUS_ACCESS_TOKEN = ZHSc2S6b0AaWxfv9zqFFZxmp2bIz0sJMv9dNPaQ7-2Wvq4lnUHc5FWMJ5cgsSyKZ\n",
    "lg = lyricsgenius.Genius()"
   ]
  },
  {
   "cell_type": "code",
   "execution_count": null,
   "id": "c6ebf61a-12a1-4432-8ff1-52370bdf9f3b",
   "metadata": {},
   "outputs": [],
   "source": [
    "artist = ls.search_artist(\"Massive Attack\", max_songs=3, sort=\"title\")\n",
    "print(artist.songs)"
   ]
  }
 ],
 "metadata": {
  "kernelspec": {
   "display_name": "Python 3 (ipykernel)",
   "language": "python",
   "name": "python3"
  },
  "language_info": {
   "codemirror_mode": {
    "name": "ipython",
    "version": 3
   },
   "file_extension": ".py",
   "mimetype": "text/x-python",
   "name": "python",
   "nbconvert_exporter": "python",
   "pygments_lexer": "ipython3",
   "version": "3.11.1"
  }
 },
 "nbformat": 4,
 "nbformat_minor": 5
}
