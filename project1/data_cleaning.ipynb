{
 "cells": [
  {
   "cell_type": "markdown",
   "id": "94b80192-8648-46a7-befe-13b936a5a057",
   "metadata": {},
   "source": [
    "# Project 1: Classifying Music Genre by Lyrics"
   ]
  },
  {
   "cell_type": "markdown",
   "id": "7121d1cc-7250-4b7d-8fc0-61aa91d05bfa",
   "metadata": {},
   "source": [
    "# Anthony is here"
   ]
  },
  {
   "cell_type": "markdown",
   "id": "b103ba33",
   "metadata": {},
   "source": [
    "# Laura is here"
   ]
  },
  {
   "cell_type": "code",
   "execution_count": 1,
   "id": "ad47ebbc-4de8-4765-b556-4ce3b889f3ab",
   "metadata": {},
   "outputs": [
    {
     "ename": "ImportError",
     "evalue": "cannot import name 'Self' from 'typing' (/usr/lib/python3.10/typing.py)",
     "output_type": "error",
     "traceback": [
      "\u001b[0;31m---------------------------------------------------------------------------\u001b[0m",
      "\u001b[0;31mImportError\u001b[0m                               Traceback (most recent call last)",
      "Cell \u001b[0;32mIn[1], line 1\u001b[0m\n\u001b[0;32m----> 1\u001b[0m \u001b[38;5;28;01mimport\u001b[39;00m \u001b[38;5;21;01mlyricsgenius\u001b[39;00m\n",
      "File \u001b[0;32m~/.local/lib/python3.10/site-packages/lyricsgenius/__init__.py:10\u001b[0m\n\u001b[1;32m      8\u001b[0m \u001b[38;5;28;01massert\u001b[39;00m sys\u001b[38;5;241m.\u001b[39mversion_info[\u001b[38;5;241m0\u001b[39m] \u001b[38;5;241m==\u001b[39m \u001b[38;5;241m3\u001b[39m, \u001b[38;5;124m\"\u001b[39m\u001b[38;5;124mLyricsGenius requires Python 3.\u001b[39m\u001b[38;5;124m\"\u001b[39m\n\u001b[1;32m      9\u001b[0m \u001b[38;5;28;01mfrom\u001b[39;00m \u001b[38;5;21;01mlyricsgenius\u001b[39;00m\u001b[38;5;21;01m.\u001b[39;00m\u001b[38;5;21;01mapi\u001b[39;00m \u001b[38;5;28;01mimport\u001b[39;00m API, PublicAPI\n\u001b[0;32m---> 10\u001b[0m \u001b[38;5;28;01mfrom\u001b[39;00m \u001b[38;5;21;01mlyricsgenius\u001b[39;00m\u001b[38;5;21;01m.\u001b[39;00m\u001b[38;5;21;01mauth\u001b[39;00m \u001b[38;5;28;01mimport\u001b[39;00m OAuth2\n\u001b[1;32m     11\u001b[0m \u001b[38;5;28;01mfrom\u001b[39;00m \u001b[38;5;21;01mlyricsgenius\u001b[39;00m\u001b[38;5;21;01m.\u001b[39;00m\u001b[38;5;21;01mgenius\u001b[39;00m \u001b[38;5;28;01mimport\u001b[39;00m Genius\n\u001b[1;32m     12\u001b[0m \u001b[38;5;28;01mfrom\u001b[39;00m \u001b[38;5;21;01mlyricsgenius\u001b[39;00m\u001b[38;5;21;01m.\u001b[39;00m\u001b[38;5;21;01mutils\u001b[39;00m \u001b[38;5;28;01mimport\u001b[39;00m auth_from_environment\n",
      "File \u001b[0;32m~/.local/lib/python3.10/site-packages/lyricsgenius/auth.py:2\u001b[0m\n\u001b[1;32m      1\u001b[0m \u001b[38;5;28;01mimport\u001b[39;00m \u001b[38;5;21;01mwebbrowser\u001b[39;00m\n\u001b[0;32m----> 2\u001b[0m \u001b[38;5;28;01mfrom\u001b[39;00m \u001b[38;5;21;01mtyping\u001b[39;00m \u001b[38;5;28;01mimport\u001b[39;00m Any, ClassVar, Self\n\u001b[1;32m      3\u001b[0m \u001b[38;5;28;01mfrom\u001b[39;00m \u001b[38;5;21;01murllib\u001b[39;00m\u001b[38;5;21;01m.\u001b[39;00m\u001b[38;5;21;01mparse\u001b[39;00m \u001b[38;5;28;01mimport\u001b[39;00m urlencode\n\u001b[1;32m      5\u001b[0m \u001b[38;5;28;01mfrom\u001b[39;00m \u001b[38;5;21;01m.\u001b[39;00m\u001b[38;5;21;01mapi\u001b[39;00m\u001b[38;5;21;01m.\u001b[39;00m\u001b[38;5;21;01mbase\u001b[39;00m \u001b[38;5;28;01mimport\u001b[39;00m Sender\n",
      "\u001b[0;31mImportError\u001b[0m: cannot import name 'Self' from 'typing' (/usr/lib/python3.10/typing.py)"
     ]
    }
   ],
   "source": [
    "import lyricsgenius"
   ]
  },
  {
   "cell_type": "code",
   "execution_count": null,
   "id": "f9a6fa65-9165-4955-9d8a-a06a12fde695",
   "metadata": {},
   "outputs": [],
   "source": [
    "# Setting up API\n",
    "GENIUS_ACCESS_TOKEN = ZHSc2S6b0AaWxfv9zqFFZxmp2bIz0sJMv9dNPaQ7-2Wvq4lnUHc5FWMJ5cgsSyKZ\n",
    "lg = lyricsgenius.Genius()"
   ]
  },
  {
   "cell_type": "code",
   "execution_count": null,
   "id": "c6ebf61a-12a1-4432-8ff1-52370bdf9f3b",
   "metadata": {},
   "outputs": [],
   "source": [
    "artist = ls.search_artist(\"Massive Attack\", max_songs=3, sort=\"title\")\n",
    "print(artist.songs)"
   ]
  }
 ],
 "metadata": {
  "kernelspec": {
   "display_name": "project1",
   "language": "python",
   "name": "project1"
  },
  "language_info": {
   "codemirror_mode": {
    "name": "ipython",
    "version": 3
   },
   "file_extension": ".py",
   "mimetype": "text/x-python",
   "name": "python",
   "nbconvert_exporter": "python",
   "pygments_lexer": "ipython3",
   "version": "3.10.12"
  }
 },
 "nbformat": 4,
 "nbformat_minor": 5
}
