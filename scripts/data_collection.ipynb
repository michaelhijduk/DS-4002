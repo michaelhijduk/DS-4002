{
 "cells": [
  {
   "cell_type": "markdown",
   "id": "ecd4c90a-0be4-419d-a69d-1322907d9781",
   "metadata": {},
   "source": [
    "# Gathering Data"
   ]
  },
  {
   "cell_type": "code",
   "execution_count": 1,
   "id": "56e481ad-fc75-4519-942a-daa63759c3fd",
   "metadata": {},
   "outputs": [],
   "source": [
    "from lyricsgenius import Genius\n",
    "import pandas as pd\n",
    "import os, requests"
   ]
  },
  {
   "cell_type": "code",
   "execution_count": 2,
   "id": "dff458d7-e03f-403d-b42b-c59cdc681f43",
   "metadata": {},
   "outputs": [],
   "source": [
    "# Establishing API keys\n",
    "GENIUS_API_KEY = os.getenv(\"GENIUS_API_KEY\")\n",
    "if GENIUS_API_KEY is None:\n",
    "    raise ValueError(\"GENIUS_API_KEY cannot be found\")\n",
    "genius = Genius(GENIUS_API_KEY)\n",
    "    \n",
    "LASTFM_API_KEY = os.getenv(\"LASTFM_API_KEY\")\n",
    "if LASTFM_API_KEY is None:\n",
    "    raise ValueError(\"LASTFM_API_KEY cannot be found\")"
   ]
  },
  {
   "cell_type": "code",
   "execution_count": 12,
   "id": "fc50ebd6-5f87-48b8-96b9-697b0e81f2a7",
   "metadata": {},
   "outputs": [],
   "source": [
    "# Gathering top tracks of desired genres\n",
    "BASE_URL = \"http://ws.audioscrobbler.com/2.0/\"\n",
    "GENRES = [\"classical\"]\n",
    "# GENRES = [\"pop\", \"rock\", \"electronic\", \"country\",\n",
    "#           \"religious\", \"metal\", \"hip hop\", \"jazz\",\n",
    "#           \"R&B\", \"classical\"] # Derived from musicmap.info\n",
    "raw_data = {}\n",
    "\n",
    "\n",
    "def getTopTracks(genre, limit=10, key=0):    \n",
    "    params = {\n",
    "        \"method\": \"tag.gettoptracks\",\n",
    "        \"tag\": genre,\n",
    "        \"api_key\": LASTFM_API_KEY,\n",
    "        \"format\": \"json\",\n",
    "        \"limit\": limit\n",
    "    }\n",
    "    \n",
    "    response = requests.get(BASE_URL, params=params)\n",
    "    data = response.json()\n",
    "\n",
    "    # Parsing results\n",
    "    for track in data[\"tracks\"][\"track\"]:\n",
    "        raw_data[key] = {\n",
    "            \"name\": track[\"name\"],\n",
    "            \"artist\": track[\"artist\"][\"name\"],\n",
    "            \"genre\": genre,\n",
    "            \"duration\": track[\"duration\"]\n",
    "        }\n",
    "        key += 1\n",
    "    return key"
   ]
  },
  {
   "cell_type": "code",
   "execution_count": 13,
   "id": "0cce2b72-a3a0-47d8-93b3-3254e04c5312",
   "metadata": {},
   "outputs": [],
   "source": [
    "SONGS_PER_GENRE = 1 # 10 Genres\n",
    "\n",
    "key = 0\n",
    "for genre in GENRES:\n",
    "    key = getTopTracks(genre, SONGS_PER_GENRE, key)\n",
    "\n",
    "# raw_data"
   ]
  },
  {
   "cell_type": "code",
   "execution_count": 18,
   "id": "b90d94fc-0a86-41ed-af3f-5fa7439ef7e5",
   "metadata": {},
   "outputs": [
    {
     "name": "stdout",
     "output_type": "stream",
     "text": [
      "Searching for \"Gymnopédie No. 1\"...\n",
      "Done.\n"
     ]
    }
   ],
   "source": [
    "# Gathering lyrics for songs\n",
    "genius.remove_section_headers = True\n",
    "genius.skip_non_songs = False\n",
    "\n",
    "for track in raw_data:\n",
    "    song = genius.search_song(raw_data[track][\"name\"])\n",
    "    raw_data[track][\"lyrics\"] = song.lyrics"
   ]
  }
 ],
 "metadata": {
  "kernelspec": {
   "display_name": "Python 3 (ipykernel)",
   "language": "python",
   "name": "python3"
  },
  "language_info": {
   "codemirror_mode": {
    "name": "ipython",
    "version": 3
   },
   "file_extension": ".py",
   "mimetype": "text/x-python",
   "name": "python",
   "nbconvert_exporter": "python",
   "pygments_lexer": "ipython3",
   "version": "3.13.7"
  }
 },
 "nbformat": 4,
 "nbformat_minor": 5
}
