{
 "cells": [
  {
   "cell_type": "markdown",
   "id": "ecd4c90a-0be4-419d-a69d-1322907d9781",
   "metadata": {},
   "source": [
    "# Gathering Data"
   ]
  },
  {
   "cell_type": "code",
   "execution_count": 2,
   "id": "56e481ad-fc75-4519-942a-daa63759c3fd",
   "metadata": {},
   "outputs": [],
   "source": [
    "from lyricsgenius import Genius\n",
    "import pandas as pd\n",
    "import os, requests, json"
   ]
  },
  {
   "cell_type": "code",
   "execution_count": 17,
   "id": "dff458d7-e03f-403d-b42b-c59cdc681f43",
   "metadata": {},
   "outputs": [],
   "source": [
    "# Establishing API keys\n",
    "GENIUS_API_KEY = os.getenv(\"GENIUS_API_KEY\")\n",
    "if GENIUS_API_KEY is None:\n",
    "    raise ValueError(\"GENIUS_API_KEY cannot be found\")\n",
    "genius = Genius(GENIUS_API_KEY, skip_non_songs=False, \n",
    "                retries=5, remove_section_headers=True, \n",
    "                sleep_time=0.5)\n",
    "    \n",
    "LASTFM_API_KEY = os.getenv(\"LASTFM_API_KEY\")\n",
    "if LASTFM_API_KEY is None:\n",
    "    raise ValueError(\"LASTFM_API_KEY cannot be found\")"
   ]
  },
  {
   "cell_type": "code",
   "execution_count": 10,
   "id": "fc50ebd6-5f87-48b8-96b9-697b0e81f2a7",
   "metadata": {},
   "outputs": [],
   "source": [
    "# Gathering top tracks of desired genres\n",
    "BASE_URL = \"http://ws.audioscrobbler.com/2.0/\"\n",
    "GENRES = [\"pop\", \"rock\", \"electronic\", \"country\",\n",
    "          \"religious\", \"metal\", \"hip hop\", \"jazz\",\n",
    "          \"R&B\"] # Derived from musicmap.info\n",
    "raw_data = {}\n",
    "\n",
    "\n",
    "def getTopTracks(genre, limit=10, key=0):    \n",
    "    params = {\n",
    "        \"method\": \"tag.gettoptracks\",\n",
    "        \"tag\": genre,\n",
    "        \"api_key\": LASTFM_API_KEY,\n",
    "        \"format\": \"json\",\n",
    "        \"limit\": limit\n",
    "    }\n",
    "    \n",
    "    response = requests.get(BASE_URL, params=params)\n",
    "    data = response.json()\n",
    "\n",
    "    # Parsing results\n",
    "    for track in data[\"tracks\"][\"track\"]:\n",
    "        raw_data[key] = {\n",
    "            \"name\": track[\"name\"],\n",
    "            \"artist\": track[\"artist\"][\"name\"],\n",
    "            \"genre\": genre,\n",
    "            \"duration\": track[\"duration\"]\n",
    "        }\n",
    "        key += 1\n",
    "    return key"
   ]
  },
  {
   "cell_type": "code",
   "execution_count": null,
   "id": "1f656a87-ad46-4a14-8003-75200023c197",
   "metadata": {},
   "outputs": [],
   "source": [
    "# Populating dataset\n",
    "SONGS_PER_GENRE =  # 10 Genres\n",
    "\n",
    "key = 0\n",
    "for genre in GENRES:\n",
    "    key = getTopTracks(genre, SONGS_PER_GENRE, key)"
   ]
  },
  {
   "cell_type": "code",
   "execution_count": 25,
   "id": "68801ee3-5879-44ef-bac4-092e3877073e",
   "metadata": {},
   "outputs": [
    {
     "name": "stdout",
     "output_type": "stream",
     "text": [
      "Searching for \"Gymnopédie No. 1\" by Erik Satie...\n",
      "Done.\n",
      "Searching for \"Clair de lune\" by Claude Debussy...\n",
      "Done.\n",
      "Searching for \"Clair de lune, L. 32\" by Claude Debussy...\n",
      "No results found for: 'Clair de lune, L. 32 Claude Debussy'\n",
      "Searching for \"Carnival of the Animals: The Swan\" by Camille Saint-Saëns...\n",
      "No results found for: 'Carnival of the Animals: The Swan Camille Saint-Saëns'\n",
      "Searching for \"Dies irae\" by Giuseppe Verdi...\n",
      "Done.\n",
      "Searching for \"Symphony No. 5 in C Minor, Op. 67: I. Allegro con brio\" by Ludwig van Beethoven...\n",
      "Done.\n",
      "Searching for \"Adagio for Strings, Op. 11\" by Samuel Barber...\n",
      "Done.\n",
      "Searching for \"The Planets, Op. 32: IV. Jupiter, the Bringer of Jollity\" by Gustav Holst...\n",
      "No results found for: 'The Planets, Op. 32: IV. Jupiter, the Bringer of Jollity Gustav Holst'\n",
      "Searching for \"Für Elise\" by Ludwig van Beethoven...\n",
      "Done.\n",
      "Searching for \"Air on a G String\" by Johann Sebastian Bach...\n",
      "Done.\n"
     ]
    }
   ],
   "source": [
    "# Gathering lyrics for songs\n",
    "for track in raw_data:\n",
    "    song = genius.search_song(raw_data[track][\"name\"], artist=raw_data[track][\"artist\"])\n",
    "    if hasattr(song, \"lyrics\"):\n",
    "        raw_data[track][\"lyrics\"] = song.lyrics\n",
    "    else:\n",
    "        raw_data[track][\"lyrics\"] = \"\"   "
   ]
  },
  {
   "cell_type": "code",
   "execution_count": 20,
   "id": "d49ee1af-6a1a-4731-888b-fd81497e6f2a",
   "metadata": {},
   "outputs": [],
   "source": [
    "json_data = json.dumps(raw_data, indent=4)\n",
    "with open(\"sample_data2.json\", \"w\") as f:\n",
    "    f.write(json_data)"
   ]
  }
 ],
 "metadata": {
  "kernelspec": {
   "display_name": "Python 3 (ipykernel)",
   "language": "python",
   "name": "python3"
  },
  "language_info": {
   "codemirror_mode": {
    "name": "ipython",
    "version": 3
   },
   "file_extension": ".py",
   "mimetype": "text/x-python",
   "name": "python",
   "nbconvert_exporter": "python",
   "pygments_lexer": "ipython3",
   "version": "3.13.7"
  }
 },
 "nbformat": 4,
 "nbformat_minor": 5
}
